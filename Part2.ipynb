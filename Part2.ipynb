{
 "cells": [
  {
   "cell_type": "code",
   "execution_count": 2,
   "metadata": {
    "collapsed": true,
    "deletable": true,
    "editable": true
   },
   "outputs": [
    {
     "data": {
      "text/html": [
       "\n",
       "    <div class=\"bk-root\">\n",
       "        <a href=\"http://bokeh.pydata.org\" target=\"_blank\" class=\"bk-logo bk-logo-small bk-logo-notebook\"></a>\n",
       "        <span id=\"a10ffa51-0ef6-49be-abc6-2ce0f5f0e072\">Loading BokehJS ...</span>\n",
       "    </div>"
      ],
      "text/plain": [
       "\n",
       "    <div class=\"bk-root\">\n",
       "        <a href=\"http://bokeh.pydata.org\" target=\"_blank\" class=\"bk-logo bk-logo-small bk-logo-notebook\"></a>\n",
       "        <span id=\"a10ffa51-0ef6-49be-abc6-2ce0f5f0e072\">Loading BokehJS ...</span>\n",
       "    </div>"
      ]
     },
     "execution_count": 0,
     "metadata": {},
     "output_type": "execute_result"
    },
    {
     "data": {
      "text/html": [
       "\n",
       "    <div class=\"bk-root\">\n",
       "        <a href=\"http://bokeh.pydata.org\" target=\"_blank\" class=\"bk-logo bk-logo-small bk-logo-notebook\"></a>\n",
       "        <span id=\"a10ffa51-0ef6-49be-abc6-2ce0f5f0e072\">Loading BokehJS ...</span>\n",
       "    </div>"
      ],
      "text/plain": [
       "\n",
       "    <div class=\"bk-root\">\n",
       "        <a href=\"http://bokeh.pydata.org\" target=\"_blank\" class=\"bk-logo bk-logo-small bk-logo-notebook\"></a>\n",
       "        <span id=\"a10ffa51-0ef6-49be-abc6-2ce0f5f0e072\">Loading BokehJS ...</span>\n",
       "    </div>"
      ]
     },
     "execution_count": 0,
     "metadata": {},
     "output_type": "execute_result"
    }
   ],
   "source": [
    "import scipy.stats as stats\n",
    "import numpy as np\n",
    "import matplotlib.pyplot as plt\n",
    "import pandas as pd\n",
    "\n",
    "import bokeh.charts as charts\n",
    "charts.output_notebook()"
   ]
  },
  {
   "cell_type": "markdown",
   "metadata": {
    "deletable": true,
    "editable": true
   },
   "source": [
    "# Part II"
   ]
  },
  {
   "cell_type": "markdown",
   "metadata": {
    "deletable": true,
    "editable": true
   },
   "source": [
    "Let's examine the the number of broadband users per capita in the year of 2010. This data was not available from GapMinder, so I took it upon myself to generate it from data set sets for the population and the number of broadband users."
   ]
  },
  {
   "cell_type": "code",
   "execution_count": 3,
   "metadata": {
    "collapsed": true,
    "deletable": true,
    "editable": true
   },
   "outputs": [],
   "source": [
    "broadband = \"broadband total.xlsx\"\n",
    "broadband_df = pd.read_excel(broadband, encoding=\"utf-8-sig\")\n",
    "\n",
    "pop = \"indicator gapminder population.xlsx\"\n",
    "pop_df = pd.read_excel(pop, encoding=\"utf-8-sig\")"
   ]
  },
  {
   "cell_type": "markdown",
   "metadata": {
    "deletable": true,
    "editable": true
   },
   "source": [
    "Let's reindex based on country name, fill any missing data with zeroes, and cast the GDP values from float to int:"
   ]
  },
  {
   "cell_type": "code",
   "execution_count": 4,
   "metadata": {
    "collapsed": true,
    "deletable": true,
    "editable": true
   },
   "outputs": [],
   "source": [
    "for df in [broadband_df, pop_df]:\n",
    "    countries = df.iloc[:, 0]\n",
    "    countries.name = \"Country\"\n",
    "    df.drop(df.columns[0], axis=1, inplace=True)\n",
    "    df.fillna(0, inplace=True)\n",
    "    df.index = countries\n",
    "    df.columns = df.columns.astype(int)\n",
    "    for column in df.columns:\n",
    "        df[column] = df[column].astype(int)"
   ]
  },
  {
   "cell_type": "markdown",
   "metadata": {
    "deletable": true,
    "editable": true
   },
   "source": [
    "Let's generate a dataset of broadband subscribers per capita from the datasets of broadband subscribers and population:"
   ]
  },
  {
   "cell_type": "code",
   "execution_count": 5,
   "metadata": {
    "collapsed": false,
    "deletable": true,
    "editable": true
   },
   "outputs": [
    {
     "data": {
      "text/plain": [
       "((213, 17), (275, 81))"
      ]
     },
     "execution_count": 5,
     "metadata": {},
     "output_type": "execute_result"
    }
   ],
   "source": [
    "broadband_df.shape, pop_df.shape"
   ]
  },
  {
   "cell_type": "markdown",
   "metadata": {
    "deletable": true,
    "editable": true
   },
   "source": [
    "Let's leave only the common indexes:"
   ]
  },
  {
   "cell_type": "code",
   "execution_count": 6,
   "metadata": {
    "collapsed": false,
    "deletable": true,
    "editable": true
   },
   "outputs": [
    {
     "data": {
      "text/plain": [
       "((201, 17), (201, 81))"
      ]
     },
     "execution_count": 6,
     "metadata": {},
     "output_type": "execute_result"
    }
   ],
   "source": [
    "common_countries = np.intersect1d(broadband_df.index, pop_df.index)\n",
    "common_countries.shape\n",
    "broadband_df = broadband_df.loc[common_countries]\n",
    "pop_df = pop_df.loc[common_countries]\n",
    "broadband_df.shape, pop_df.shape"
   ]
  },
  {
   "cell_type": "markdown",
   "metadata": {
    "deletable": true,
    "editable": true
   },
   "source": [
    "And the common columns:"
   ]
  },
  {
   "cell_type": "code",
   "execution_count": 7,
   "metadata": {
    "collapsed": false,
    "deletable": true,
    "editable": true
   },
   "outputs": [
    {
     "data": {
      "text/plain": [
       "((201, 17), (201, 17))"
      ]
     },
     "execution_count": 7,
     "metadata": {},
     "output_type": "execute_result"
    }
   ],
   "source": [
    "common_years = np.intersect1d(broadband_df.columns, pop_df.columns)\n",
    "common_years\n",
    "broadband_df = broadband_df[common_years]\n",
    "pop_df = pop_df[common_years]\n",
    "broadband_df.shape, pop_df.shape"
   ]
  },
  {
   "cell_type": "markdown",
   "metadata": {
    "deletable": true,
    "editable": true
   },
   "source": [
    "The dataframes now have the same indexes and columns. Let's compute the ratios of broadband subscribers per capita:"
   ]
  },
  {
   "cell_type": "code",
   "execution_count": 8,
   "metadata": {
    "collapsed": false,
    "deletable": true,
    "editable": true
   },
   "outputs": [
    {
     "data": {
      "text/html": [
       "<div>\n",
       "<table border=\"1\" class=\"dataframe\">\n",
       "  <thead>\n",
       "    <tr style=\"text-align: right;\">\n",
       "      <th></th>\n",
       "      <th>1995</th>\n",
       "      <th>1996</th>\n",
       "      <th>1997</th>\n",
       "      <th>1998</th>\n",
       "      <th>1999</th>\n",
       "      <th>2000</th>\n",
       "      <th>2001</th>\n",
       "      <th>2002</th>\n",
       "      <th>2003</th>\n",
       "      <th>2004</th>\n",
       "      <th>2005</th>\n",
       "      <th>2006</th>\n",
       "      <th>2007</th>\n",
       "      <th>2008</th>\n",
       "      <th>2009</th>\n",
       "      <th>2010</th>\n",
       "      <th>2011</th>\n",
       "    </tr>\n",
       "    <tr>\n",
       "      <th>Country</th>\n",
       "      <th></th>\n",
       "      <th></th>\n",
       "      <th></th>\n",
       "      <th></th>\n",
       "      <th></th>\n",
       "      <th></th>\n",
       "      <th></th>\n",
       "      <th></th>\n",
       "      <th></th>\n",
       "      <th></th>\n",
       "      <th></th>\n",
       "      <th></th>\n",
       "      <th></th>\n",
       "      <th></th>\n",
       "      <th></th>\n",
       "      <th></th>\n",
       "      <th></th>\n",
       "    </tr>\n",
       "  </thead>\n",
       "  <tbody>\n",
       "    <tr>\n",
       "      <th>Afghanistan</th>\n",
       "      <td>0.0</td>\n",
       "      <td>0.0</td>\n",
       "      <td>0.0</td>\n",
       "      <td>0.0</td>\n",
       "      <td>0.0</td>\n",
       "      <td>0.0</td>\n",
       "      <td>0.0</td>\n",
       "      <td>0.000000</td>\n",
       "      <td>0.000000</td>\n",
       "      <td>0.000009</td>\n",
       "      <td>0.000009</td>\n",
       "      <td>0.000020</td>\n",
       "      <td>0.000019</td>\n",
       "      <td>0.000019</td>\n",
       "      <td>0.000037</td>\n",
       "      <td>0.000054</td>\n",
       "      <td>0.0</td>\n",
       "    </tr>\n",
       "    <tr>\n",
       "      <th>Albania</th>\n",
       "      <td>0.0</td>\n",
       "      <td>0.0</td>\n",
       "      <td>0.0</td>\n",
       "      <td>0.0</td>\n",
       "      <td>0.0</td>\n",
       "      <td>0.0</td>\n",
       "      <td>0.0</td>\n",
       "      <td>0.000000</td>\n",
       "      <td>0.000000</td>\n",
       "      <td>0.000000</td>\n",
       "      <td>0.000088</td>\n",
       "      <td>0.000000</td>\n",
       "      <td>0.003321</td>\n",
       "      <td>0.021563</td>\n",
       "      <td>0.031401</td>\n",
       "      <td>0.036362</td>\n",
       "      <td>0.0</td>\n",
       "    </tr>\n",
       "    <tr>\n",
       "      <th>Algeria</th>\n",
       "      <td>0.0</td>\n",
       "      <td>0.0</td>\n",
       "      <td>0.0</td>\n",
       "      <td>0.0</td>\n",
       "      <td>0.0</td>\n",
       "      <td>0.0</td>\n",
       "      <td>0.0</td>\n",
       "      <td>0.000000</td>\n",
       "      <td>0.000556</td>\n",
       "      <td>0.001097</td>\n",
       "      <td>0.004058</td>\n",
       "      <td>0.005037</td>\n",
       "      <td>0.008378</td>\n",
       "      <td>0.013932</td>\n",
       "      <td>0.023106</td>\n",
       "      <td>0.024975</td>\n",
       "      <td>0.0</td>\n",
       "    </tr>\n",
       "    <tr>\n",
       "      <th>American Samoa</th>\n",
       "      <td>0.0</td>\n",
       "      <td>0.0</td>\n",
       "      <td>0.0</td>\n",
       "      <td>0.0</td>\n",
       "      <td>0.0</td>\n",
       "      <td>0.0</td>\n",
       "      <td>0.0</td>\n",
       "      <td>0.000000</td>\n",
       "      <td>0.000000</td>\n",
       "      <td>0.000000</td>\n",
       "      <td>0.000000</td>\n",
       "      <td>0.000000</td>\n",
       "      <td>0.000000</td>\n",
       "      <td>0.000000</td>\n",
       "      <td>0.000000</td>\n",
       "      <td>0.000000</td>\n",
       "      <td>0.0</td>\n",
       "    </tr>\n",
       "    <tr>\n",
       "      <th>Andorra</th>\n",
       "      <td>0.0</td>\n",
       "      <td>0.0</td>\n",
       "      <td>0.0</td>\n",
       "      <td>0.0</td>\n",
       "      <td>0.0</td>\n",
       "      <td>0.0</td>\n",
       "      <td>0.0</td>\n",
       "      <td>0.016159</td>\n",
       "      <td>0.048153</td>\n",
       "      <td>0.080192</td>\n",
       "      <td>0.127316</td>\n",
       "      <td>0.175309</td>\n",
       "      <td>0.218266</td>\n",
       "      <td>0.241450</td>\n",
       "      <td>0.268397</td>\n",
       "      <td>0.290243</td>\n",
       "      <td>0.0</td>\n",
       "    </tr>\n",
       "  </tbody>\n",
       "</table>\n",
       "</div>"
      ],
      "text/plain": [
       "<div>\n",
       "<table border=\"1\" class=\"dataframe\">\n",
       "  <thead>\n",
       "    <tr style=\"text-align: right;\">\n",
       "      <th></th>\n",
       "      <th>1995</th>\n",
       "      <th>1996</th>\n",
       "      <th>1997</th>\n",
       "      <th>1998</th>\n",
       "      <th>1999</th>\n",
       "      <th>2000</th>\n",
       "      <th>2001</th>\n",
       "      <th>2002</th>\n",
       "      <th>2003</th>\n",
       "      <th>2004</th>\n",
       "      <th>2005</th>\n",
       "      <th>2006</th>\n",
       "      <th>2007</th>\n",
       "      <th>2008</th>\n",
       "      <th>2009</th>\n",
       "      <th>2010</th>\n",
       "      <th>2011</th>\n",
       "    </tr>\n",
       "    <tr>\n",
       "      <th>Country</th>\n",
       "      <th></th>\n",
       "      <th></th>\n",
       "      <th></th>\n",
       "      <th></th>\n",
       "      <th></th>\n",
       "      <th></th>\n",
       "      <th></th>\n",
       "      <th></th>\n",
       "      <th></th>\n",
       "      <th></th>\n",
       "      <th></th>\n",
       "      <th></th>\n",
       "      <th></th>\n",
       "      <th></th>\n",
       "      <th></th>\n",
       "      <th></th>\n",
       "      <th></th>\n",
       "    </tr>\n",
       "  </thead>\n",
       "  <tbody>\n",
       "    <tr>\n",
       "      <th>Afghanistan</th>\n",
       "      <td>0.0</td>\n",
       "      <td>0.0</td>\n",
       "      <td>0.0</td>\n",
       "      <td>0.0</td>\n",
       "      <td>0.0</td>\n",
       "      <td>0.0</td>\n",
       "      <td>0.0</td>\n",
       "      <td>0.000000</td>\n",
       "      <td>0.000000</td>\n",
       "      <td>0.000009</td>\n",
       "      <td>0.000009</td>\n",
       "      <td>0.000020</td>\n",
       "      <td>0.000019</td>\n",
       "      <td>0.000019</td>\n",
       "      <td>0.000037</td>\n",
       "      <td>0.000054</td>\n",
       "      <td>0.0</td>\n",
       "    </tr>\n",
       "    <tr>\n",
       "      <th>Albania</th>\n",
       "      <td>0.0</td>\n",
       "      <td>0.0</td>\n",
       "      <td>0.0</td>\n",
       "      <td>0.0</td>\n",
       "      <td>0.0</td>\n",
       "      <td>0.0</td>\n",
       "      <td>0.0</td>\n",
       "      <td>0.000000</td>\n",
       "      <td>0.000000</td>\n",
       "      <td>0.000000</td>\n",
       "      <td>0.000088</td>\n",
       "      <td>0.000000</td>\n",
       "      <td>0.003321</td>\n",
       "      <td>0.021563</td>\n",
       "      <td>0.031401</td>\n",
       "      <td>0.036362</td>\n",
       "      <td>0.0</td>\n",
       "    </tr>\n",
       "    <tr>\n",
       "      <th>Algeria</th>\n",
       "      <td>0.0</td>\n",
       "      <td>0.0</td>\n",
       "      <td>0.0</td>\n",
       "      <td>0.0</td>\n",
       "      <td>0.0</td>\n",
       "      <td>0.0</td>\n",
       "      <td>0.0</td>\n",
       "      <td>0.000000</td>\n",
       "      <td>0.000556</td>\n",
       "      <td>0.001097</td>\n",
       "      <td>0.004058</td>\n",
       "      <td>0.005037</td>\n",
       "      <td>0.008378</td>\n",
       "      <td>0.013932</td>\n",
       "      <td>0.023106</td>\n",
       "      <td>0.024975</td>\n",
       "      <td>0.0</td>\n",
       "    </tr>\n",
       "    <tr>\n",
       "      <th>American Samoa</th>\n",
       "      <td>0.0</td>\n",
       "      <td>0.0</td>\n",
       "      <td>0.0</td>\n",
       "      <td>0.0</td>\n",
       "      <td>0.0</td>\n",
       "      <td>0.0</td>\n",
       "      <td>0.0</td>\n",
       "      <td>0.000000</td>\n",
       "      <td>0.000000</td>\n",
       "      <td>0.000000</td>\n",
       "      <td>0.000000</td>\n",
       "      <td>0.000000</td>\n",
       "      <td>0.000000</td>\n",
       "      <td>0.000000</td>\n",
       "      <td>0.000000</td>\n",
       "      <td>0.000000</td>\n",
       "      <td>0.0</td>\n",
       "    </tr>\n",
       "    <tr>\n",
       "      <th>Andorra</th>\n",
       "      <td>0.0</td>\n",
       "      <td>0.0</td>\n",
       "      <td>0.0</td>\n",
       "      <td>0.0</td>\n",
       "      <td>0.0</td>\n",
       "      <td>0.0</td>\n",
       "      <td>0.0</td>\n",
       "      <td>0.016159</td>\n",
       "      <td>0.048153</td>\n",
       "      <td>0.080192</td>\n",
       "      <td>0.127316</td>\n",
       "      <td>0.175309</td>\n",
       "      <td>0.218266</td>\n",
       "      <td>0.241450</td>\n",
       "      <td>0.268397</td>\n",
       "      <td>0.290243</td>\n",
       "      <td>0.0</td>\n",
       "    </tr>\n",
       "  </tbody>\n",
       "</table>\n",
       "</div>"
      ]
     },
     "execution_count": 8,
     "metadata": {},
     "output_type": "execute_result"
    }
   ],
   "source": [
    "broadband_per_capita = broadband_df.div(pop_df, axis=\"index\")\n",
    "broadband_per_capita.fillna(0, inplace=True)\n",
    "broadband_per_capita.head()"
   ]
  },
  {
   "cell_type": "markdown",
   "metadata": {
    "deletable": true,
    "editable": true
   },
   "source": [
    "Let's examine the data for the year of 2010 (latest available):"
   ]
  },
  {
   "cell_type": "code",
   "execution_count": 9,
   "metadata": {
    "collapsed": false,
    "deletable": true,
    "editable": true
   },
   "outputs": [
    {
     "data": {
      "text/plain": [
       "(187,)"
      ]
     },
     "execution_count": 9,
     "metadata": {},
     "output_type": "execute_result"
    }
   ],
   "source": [
    "year2010 = broadband_per_capita[2010][broadband_per_capita[2010] > 0]\n",
    "year2010.name = \"broadband_users_per_capita\"\n",
    "year2010.shape"
   ]
  },
  {
   "cell_type": "code",
   "execution_count": 10,
   "metadata": {
    "collapsed": false,
    "deletable": true,
    "editable": true
   },
   "outputs": [
    {
     "data": {
      "text/plain": [
       "Country\n",
       "Afghanistan    0.000054\n",
       "Burundi        0.000021\n",
       "Cameroon       0.000049\n",
       "Chad           0.000013\n",
       "Congo, Rep.    0.000030\n",
       "Eritrea        0.000025\n",
       "Ethiopia       0.000047\n",
       "Guinea         0.000045\n",
       "Iraq           0.000002\n",
       "Liberia        0.000047\n",
       "Name: broadband_users_per_capita, dtype: float64"
      ]
     },
     "execution_count": 10,
     "metadata": {},
     "output_type": "execute_result"
    }
   ],
   "source": [
    "bottom10 = year2010[year2010.isin(np.sort(year2010)[:10])]\n",
    "bottom10"
   ]
  },
  {
   "cell_type": "code",
   "execution_count": 11,
   "metadata": {
    "collapsed": false,
    "deletable": true,
    "editable": true
   },
   "outputs": [
    {
     "data": {
      "text/plain": [
       "Country\n",
       "Bermuda           0.627013\n",
       "Cayman Islands    0.339621\n",
       "Denmark           0.376940\n",
       "France            0.339019\n",
       "Gibraltar         0.339483\n",
       "Iceland           0.343389\n",
       "Liechtenstein     0.634028\n",
       "Netherlands       0.380601\n",
       "Norway            0.352400\n",
       "Switzerland       0.371382\n",
       "Name: broadband_users_per_capita, dtype: float64"
      ]
     },
     "execution_count": 11,
     "metadata": {},
     "output_type": "execute_result"
    }
   ],
   "source": [
    "top10 = year2010[year2010.isin(np.sort(year2010)[-10:])]\n",
    "top10"
   ]
  },
  {
   "cell_type": "code",
   "execution_count": 12,
   "metadata": {
    "collapsed": false,
    "deletable": true,
    "editable": true
   },
   "outputs": [
    {
     "data": {
      "text/plain": [
       "0.09633212338500008"
      ]
     },
     "execution_count": 12,
     "metadata": {},
     "output_type": "execute_result"
    }
   ],
   "source": [
    "mean = year2010.mean()\n",
    "mean"
   ]
  },
  {
   "cell_type": "code",
   "execution_count": 13,
   "metadata": {
    "collapsed": false,
    "deletable": true,
    "editable": true
   },
   "outputs": [
    {
     "data": {
      "text/plain": [
       "0.015332285963978993"
      ]
     },
     "execution_count": 13,
     "metadata": {},
     "output_type": "execute_result"
    }
   ],
   "source": [
    "var = year2010.var()\n",
    "var"
   ]
  },
  {
   "cell_type": "markdown",
   "metadata": {
    "deletable": true,
    "editable": true
   },
   "source": [
    "#### 1)\n",
    "\n",
    "Let's set up the four distributions from the data:"
   ]
  },
  {
   "cell_type": "code",
   "execution_count": 14,
   "metadata": {
    "collapsed": true,
    "deletable": true,
    "editable": true
   },
   "outputs": [],
   "source": [
    "class FrozenDistFactory:       \n",
    "    distributions = {}\n",
    "    dof = {}\n",
    "    \n",
    "    def __init__(self, dist_info, data):\n",
    "        for name in dist_info:\n",
    "            typename, dof = dist_info[name]\n",
    "            param = getattr(stats, typename).fit(data)\n",
    "            dist = getattr(stats, typename)(*param)\n",
    "            self.distributions[name] = dist\n",
    "            self.dof[name] = dof\n",
    "    \n",
    "    def get_frozen_dist(self, name):\n",
    "        return self.distributions[name]\n",
    "    \n",
    "    def get_dist_dof(self, name):\n",
    "        return self.dof[name]\n",
    "    \n",
    "    def items(self):\n",
    "        for name in self.distributions:\n",
    "            yield name, self.distributions[name], self.dof[name]"
   ]
  },
  {
   "cell_type": "code",
   "execution_count": 15,
   "metadata": {
    "collapsed": true,
    "deletable": true,
    "editable": true
   },
   "outputs": [],
   "source": [
    "#the second value of the tuple is the number of parameters\n",
    "distributions = {\n",
    "    \"Uniform\": (\"uniform\", 1),\n",
    "    \"Exponential\": (\"expon\", 1),\n",
    "    \"Normal\": (\"norm\", 2),\n",
    "    \"Gamma\": (\"gamma\", 2)\n",
    "}\n",
    "\n",
    "frozen_dist_factory = FrozenDistFactory(distributions, year2010)"
   ]
  },
  {
   "cell_type": "markdown",
   "metadata": {
    "deletable": true,
    "editable": true
   },
   "source": [
    "#### 2)\n",
    "\n",
    "The data does not have to fit one of these four distributions. Even if the population does have one of the four distributions, the data may be too sparse to fit any of them well."
   ]
  },
  {
   "cell_type": "markdown",
   "metadata": {
    "deletable": true,
    "editable": true
   },
   "source": [
    "#### 3)\n",
    "\n",
    "A dataset could have several distinctly distributed groups, which might result in a mixed distribution. However, this does not seem to be the case with my data."
   ]
  },
  {
   "cell_type": "markdown",
   "metadata": {
    "deletable": true,
    "editable": true
   },
   "source": [
    "#### 4)\n",
    "\n",
    "Let's plot a histogram of the rates of broadband subscribers per capita:"
   ]
  },
  {
   "cell_type": "code",
   "execution_count": 16,
   "metadata": {
    "collapsed": false,
    "deletable": true,
    "editable": true
   },
   "outputs": [
    {
     "data": {
      "image/png": "[encoded data removed]",
      "text/plain": [
       "<matplotlib.figure.Figure at 0x7f6ac8e24f60>"
      ]
     },
     "metadata": {},
     "output_type": "display_data"
    }
   ],
   "source": [
    "bins = 15\n",
    "\n",
    "fig = plt.figure(figsize=(16,8))\n",
    "ax = fig.add_subplot(111)\n",
    "ax.yaxis.grid(True)\n",
    "ax.hist(x=year2010, bins=bins, normed=True, rwidth=0.8, label=None)\n",
    "ax.set_ylabel(\"Relative frequencies\")\n",
    "ax.set_xlabel(\"Broadband users per capita\")\n",
    "fig"
   ]
  },
  {
   "cell_type": "markdown",
   "metadata": {
    "deletable": true,
    "editable": true
   },
   "source": [
    "#### 5)\n",
    "\n",
    "Let's overlay the four fitted distributions on the histogram:"
   ]
  },
  {
   "cell_type": "code",
   "execution_count": 17,
   "metadata": {
    "collapsed": false,
    "deletable": true,
    "editable": true
   },
   "outputs": [
    {
     "data": {
      "image/png": "[encoded data removed]",
      "text/plain": [
       "<matplotlib.figure.Figure at 0x7f6ac8e24f60>"
      ]
     },
     "metadata": {},
     "output_type": "display_data"
    }
   ],
   "source": [
    "x = np.linspace(start=year2010.min(), stop=year2010.max(), num=100)[1:]\n",
    "\n",
    "for name, dist, _ in frozen_dist_factory.items():\n",
    "    ax.plot(x, dist.pdf(x), linewidth=3, label=name)\n",
    "\n",
    "ax.legend(loc=\"best\")\n",
    "fig"
   ]
  },
  {
   "cell_type": "markdown",
   "metadata": {
    "deletable": true,
    "editable": true
   },
   "source": [
    "Let's compare the results of the Pearson Chi-Squared test for the four candidate distributions:"
   ]
  },
  {
   "cell_type": "code",
   "execution_count": 18,
   "metadata": {
    "collapsed": true,
    "deletable": true,
    "editable": true
   },
   "outputs": [],
   "source": [
    "class Bin:\n",
    "    next = None\n",
    "    prev = None\n",
    "\n",
    "    def __init__(self, count, left_edge, right_edge):\n",
    "        self.count = count\n",
    "        self.left_edge = left_edge\n",
    "        self.right_edge = right_edge\n",
    "\n",
    "    def __repr__(self):\n",
    "        return f\"Count: {self.count}, Left edge: {self.left_edge}, Right edge: {self.right_edge}\"\n",
    "\n",
    "\n",
    "class Histogram:\n",
    "    head: Bin = None\n",
    "    tail: Bin = None\n",
    "\n",
    "    def __init__(self, bins=[]):\n",
    "        if len(bins) == 0:\n",
    "            return\n",
    "        sorted_bins = sorted(bins, key=lambda bin: bin.left_edge)\n",
    "        self.tail = self.head = sorted_bins[0]\n",
    "        for bin in sorted_bins[1:]:\n",
    "            self.append(bin)\n",
    "\n",
    "    def append(self, bin: Bin):\n",
    "        self.tail.next = bin\n",
    "        bin.prev = self.tail\n",
    "        self.tail = bin\n",
    "\n",
    "    def remove(self, bin: Bin):\n",
    "        if bin.next is not None:\n",
    "            self.merge_bins(bin, bin.next)\n",
    "            if bin is self.head:\n",
    "                self.head = bin.next\n",
    "        elif bin.prev is not None:\n",
    "            self.merge_bins(bin.prev, bin)\n",
    "            if bin is self.tail:\n",
    "                self.tail = bin.prev\n",
    "\n",
    "    def merge_bins(self, left: Bin, right: Bin):\n",
    "        right.prev = left.prev\n",
    "        if left.prev is not None:\n",
    "            left.prev.next = right\n",
    "        right.left_edge = left.left_edge\n",
    "        right.count += left.count\n",
    "\n",
    "    def items(self):\n",
    "        index = self.head\n",
    "        while index is not None:\n",
    "            yield index\n",
    "            index = index.next\n",
    "\n",
    "    def __repr__(self):\n",
    "        rep = \"\"\n",
    "        count = 0\n",
    "        for item in self.items():\n",
    "            rep += repr(item) + \"\\n\"\n",
    "            count = count + 1\n",
    "        rep += f\"({count} bins)\"\n",
    "        return rep\n",
    "\n",
    "\n",
    "def test_distribution(dist, sample, ddof=1):\n",
    "    max_bins = 8\n",
    "\n",
    "    f_obs, bin_edges = np.histogram(sample, max_bins, (sample.min(), sample.max()))\n",
    "    #bin_edges[0] = -np.inf\n",
    "    #bin_edges[bin_edges.size-1] = np.inf\n",
    "\n",
    "    bins_obs = []\n",
    "    for i in range(0, bin_edges.size - 1):\n",
    "        bins_obs.append(Bin(f_obs[i], bin_edges[i], bin_edges[i + 1]))\n",
    "    hist_obs = Histogram(bins_obs)\n",
    "\n",
    "    bins_exp = []\n",
    "    p_exp = []\n",
    "    for i in range(0, bin_edges.size - 1):\n",
    "        x1, x2 = (bin_edges[i], bin_edges[i + 1])\n",
    "        p = dist.cdf(x2) - dist.cdf(x1)\n",
    "        p_exp.append(p)\n",
    "    f_exp = np.array(p_exp) * sample.size\n",
    "    for i in range(0, bin_edges.size - 1):\n",
    "        bins_exp.append(Bin(f_exp[i], bin_edges[i], bin_edges[i + 1]))\n",
    "    hist_exp = Histogram(bins_exp)\n",
    "\n",
    "    bad_counts = True\n",
    "    while bad_counts:\n",
    "        bad_counts = False\n",
    "        for exp, obs in zip(hist_exp.items(), hist_obs.items()):\n",
    "            if (obs.count + exp.count) < 10:\n",
    "                hist_obs.remove(obs)\n",
    "                hist_exp.remove(exp)\n",
    "                bad_counts = True\n",
    "                break\n",
    "\n",
    "    f_obs = [bin.count for bin in hist_obs.items()]\n",
    "    f_exp = [bin.count for bin in hist_exp.items()]\n",
    "\n",
    "    result = stats.power_divergence(f_obs, f_exp, ddof)\n",
    "    return result.statistic, result.pvalue"
   ]
  },
  {
   "cell_type": "code",
   "execution_count": 19,
   "metadata": {
    "collapsed": false,
    "deletable": true,
    "editable": true
   },
   "outputs": [
    {
     "data": {
      "text/html": [
       "<div>\n",
       "<table border=\"1\" class=\"dataframe\">\n",
       "  <thead>\n",
       "    <tr style=\"text-align: right;\">\n",
       "      <th></th>\n",
       "      <th>Uniform</th>\n",
       "      <th>Exponential</th>\n",
       "      <th>Normal</th>\n",
       "      <th>Gamma</th>\n",
       "    </tr>\n",
       "  </thead>\n",
       "  <tbody>\n",
       "    <tr>\n",
       "      <th>Chi-Square statistic</th>\n",
       "      <td>4.358451e+02</td>\n",
       "      <td>29.404475</td>\n",
       "      <td>1.536731e+02</td>\n",
       "      <td>5.559706e+01</td>\n",
       "    </tr>\n",
       "    <tr>\n",
       "      <th>P-value</th>\n",
       "      <td>5.457649e-91</td>\n",
       "      <td>0.000002</td>\n",
       "      <td>4.268925e-34</td>\n",
       "      <td>8.457686e-13</td>\n",
       "    </tr>\n",
       "  </tbody>\n",
       "</table>\n",
       "</div>"
      ],
      "text/plain": [
       "<div>\n",
       "<table border=\"1\" class=\"dataframe\">\n",
       "  <thead>\n",
       "    <tr style=\"text-align: right;\">\n",
       "      <th></th>\n",
       "      <th>Uniform</th>\n",
       "      <th>Exponential</th>\n",
       "      <th>Normal</th>\n",
       "      <th>Gamma</th>\n",
       "    </tr>\n",
       "  </thead>\n",
       "  <tbody>\n",
       "    <tr>\n",
       "      <th>Chi-Square statistic</th>\n",
       "      <td>4.358451e+02</td>\n",
       "      <td>29.404475</td>\n",
       "      <td>1.536731e+02</td>\n",
       "      <td>5.559706e+01</td>\n",
       "    </tr>\n",
       "    <tr>\n",
       "      <th>P-value</th>\n",
       "      <td>5.457649e-91</td>\n",
       "      <td>0.000002</td>\n",
       "      <td>4.268925e-34</td>\n",
       "      <td>8.457686e-13</td>\n",
       "    </tr>\n",
       "  </tbody>\n",
       "</table>\n",
       "</div>"
      ]
     },
     "execution_count": 19,
     "metadata": {},
     "output_type": "execute_result"
    }
   ],
   "source": [
    "fit_stats = pd.DataFrame(index=[\"Chi-Square statistic\", \"P-value\"])\n",
    "for name, dist, dof in frozen_dist_factory.items():\n",
    "    result = test_distribution(dist=dist, sample=year2010, ddof=dof)\n",
    "    fit_stats[name] = result\n",
    "fit_stats"
   ]
  },
  {
   "cell_type": "markdown",
   "metadata": {
    "deletable": true,
    "editable": true
   },
   "source": [
    "Based on the small P-values, none of the four distributions fit the data well. Some of the reasons could be an insufficient number of samples (there are only so many countries) and the existence distinctly distributed subpopulations. For instance, it is quite possible that developed nations will have different trends when it comes to broadband use than developed nations, which could result in different distributions for the rate of broadband users per capita."
   ]
  },
  {
   "cell_type": "markdown",
   "metadata": {
    "deletable": true,
    "editable": true
   },
   "source": [
    "# Part III"
   ]
  },
  {
   "cell_type": "code",
   "execution_count": 86,
   "metadata": {
    "collapsed": false,
    "deletable": true,
    "editable": true
   },
   "outputs": [
    {
     "data": {
      "text/plain": [
       "Country\n",
       "Afghanistan    0.000054\n",
       "Albania        0.036362\n",
       "Algeria        0.024975\n",
       "Andorra        0.290243\n",
       "Angola         0.000943\n",
       "Name: broadband_users_per_capita, dtype: float64"
      ]
     },
     "execution_count": 86,
     "metadata": {},
     "output_type": "execute_result"
    }
   ],
   "source": [
    "data = year2010.copy()\n",
    "data.head()"
   ]
  },
  {
   "cell_type": "markdown",
   "metadata": {
    "deletable": true,
    "editable": true
   },
   "source": [
    "The sample mean from Part II becomes our population mean:"
   ]
  },
  {
   "cell_type": "code",
   "execution_count": 87,
   "metadata": {
    "collapsed": false,
    "deletable": true,
    "editable": true
   },
   "outputs": [
    {
     "data": {
      "text/plain": [
       "0.09633212338500008"
      ]
     },
     "execution_count": 87,
     "metadata": {},
     "output_type": "execute_result"
    }
   ],
   "source": [
    "population_mean = mean\n",
    "population_mean"
   ]
  },
  {
   "cell_type": "markdown",
   "metadata": {
    "deletable": true,
    "editable": true
   },
   "source": [
    "The sample variance from Part II becomes our population variance:"
   ]
  },
  {
   "cell_type": "code",
   "execution_count": 88,
   "metadata": {
    "collapsed": false,
    "deletable": true,
    "editable": true
   },
   "outputs": [
    {
     "data": {
      "text/plain": [
       "0.015332285963978993"
      ]
     },
     "execution_count": 88,
     "metadata": {},
     "output_type": "execute_result"
    }
   ],
   "source": [
    "population_var = var\n",
    "population_var"
   ]
  },
  {
   "cell_type": "markdown",
   "metadata": {
    "deletable": true,
    "editable": true
   },
   "source": [
    "#### 1)\n",
    "\n",
    "Let's compute the means for each sample (N, n)"
   ]
  },
  {
   "cell_type": "code",
   "execution_count": 89,
   "metadata": {
    "collapsed": true,
    "deletable": true,
    "editable": true
   },
   "outputs": [],
   "source": [
    "n_values = [2, 5, 10, 100, 200]\n",
    "N_values = [10, 100, 500]\n",
    "\n",
    "index = pd.MultiIndex.from_product([n_values, N_values], names=[\"n\", \"N\"])\n",
    "means = pd.DataFrame(index=range(500), columns=index)\n",
    "\n",
    "def get_N_means(N, n):\n",
    "    means = np.empty(N)\n",
    "    for i in range(N):\n",
    "        means[i] = year2010.sample(n, replace=True).mean()\n",
    "    return means\n",
    "\n",
    "for n in n_values:\n",
    "    for N in N_values:\n",
    "        sample = get_N_means(N, n)\n",
    "        s = pd.Series(sample, index=range(N))\n",
    "        means.loc[:, (n, N)] = s"
   ]
  },
  {
   "cell_type": "code",
   "execution_count": 90,
   "metadata": {
    "collapsed": false,
    "deletable": true,
    "editable": true
   },
   "outputs": [
    {
     "data": {
      "text/html": [
       "<div>\n",
       "<table border=\"1\" class=\"dataframe\">\n",
       "  <thead>\n",
       "    <tr>\n",
       "      <th>n</th>\n",
       "      <th colspan=\"3\" halign=\"left\">2</th>\n",
       "      <th colspan=\"3\" halign=\"left\">5</th>\n",
       "      <th colspan=\"3\" halign=\"left\">10</th>\n",
       "      <th colspan=\"3\" halign=\"left\">100</th>\n",
       "      <th colspan=\"3\" halign=\"left\">200</th>\n",
       "    </tr>\n",
       "    <tr>\n",
       "      <th>N</th>\n",
       "      <th>10</th>\n",
       "      <th>100</th>\n",
       "      <th>500</th>\n",
       "      <th>10</th>\n",
       "      <th>100</th>\n",
       "      <th>500</th>\n",
       "      <th>10</th>\n",
       "      <th>100</th>\n",
       "      <th>500</th>\n",
       "      <th>10</th>\n",
       "      <th>100</th>\n",
       "      <th>500</th>\n",
       "      <th>10</th>\n",
       "      <th>100</th>\n",
       "      <th>500</th>\n",
       "    </tr>\n",
       "  </thead>\n",
       "  <tbody>\n",
       "    <tr>\n",
       "      <th>0</th>\n",
       "      <td>0.031834</td>\n",
       "      <td>0.153210</td>\n",
       "      <td>0.027036</td>\n",
       "      <td>0.022260</td>\n",
       "      <td>0.189546</td>\n",
       "      <td>0.018542</td>\n",
       "      <td>0.061378</td>\n",
       "      <td>0.045642</td>\n",
       "      <td>0.135429</td>\n",
       "      <td>0.073299</td>\n",
       "      <td>0.116341</td>\n",
       "      <td>0.107365</td>\n",
       "      <td>0.084513</td>\n",
       "      <td>0.097248</td>\n",
       "      <td>0.092775</td>\n",
       "    </tr>\n",
       "    <tr>\n",
       "      <th>1</th>\n",
       "      <td>0.040824</td>\n",
       "      <td>0.156711</td>\n",
       "      <td>0.188536</td>\n",
       "      <td>0.102143</td>\n",
       "      <td>0.013157</td>\n",
       "      <td>0.058824</td>\n",
       "      <td>0.074374</td>\n",
       "      <td>0.150490</td>\n",
       "      <td>0.169571</td>\n",
       "      <td>0.094096</td>\n",
       "      <td>0.095395</td>\n",
       "      <td>0.099984</td>\n",
       "      <td>0.082120</td>\n",
       "      <td>0.072265</td>\n",
       "      <td>0.087480</td>\n",
       "    </tr>\n",
       "    <tr>\n",
       "      <th>2</th>\n",
       "      <td>0.204161</td>\n",
       "      <td>0.455332</td>\n",
       "      <td>0.107885</td>\n",
       "      <td>0.091877</td>\n",
       "      <td>0.173143</td>\n",
       "      <td>0.077631</td>\n",
       "      <td>0.098281</td>\n",
       "      <td>0.080585</td>\n",
       "      <td>0.085977</td>\n",
       "      <td>0.096187</td>\n",
       "      <td>0.094163</td>\n",
       "      <td>0.083854</td>\n",
       "      <td>0.087328</td>\n",
       "      <td>0.090448</td>\n",
       "      <td>0.106856</td>\n",
       "    </tr>\n",
       "    <tr>\n",
       "      <th>3</th>\n",
       "      <td>0.057284</td>\n",
       "      <td>0.000337</td>\n",
       "      <td>0.273175</td>\n",
       "      <td>0.042133</td>\n",
       "      <td>0.109326</td>\n",
       "      <td>0.082286</td>\n",
       "      <td>0.107443</td>\n",
       "      <td>0.084266</td>\n",
       "      <td>0.144310</td>\n",
       "      <td>0.115081</td>\n",
       "      <td>0.084086</td>\n",
       "      <td>0.089419</td>\n",
       "      <td>0.107266</td>\n",
       "      <td>0.092197</td>\n",
       "      <td>0.094195</td>\n",
       "    </tr>\n",
       "    <tr>\n",
       "      <th>4</th>\n",
       "      <td>0.047761</td>\n",
       "      <td>0.203819</td>\n",
       "      <td>0.121214</td>\n",
       "      <td>0.077905</td>\n",
       "      <td>0.284163</td>\n",
       "      <td>0.096634</td>\n",
       "      <td>0.117400</td>\n",
       "      <td>0.055256</td>\n",
       "      <td>0.114725</td>\n",
       "      <td>0.120599</td>\n",
       "      <td>0.101090</td>\n",
       "      <td>0.091259</td>\n",
       "      <td>0.093083</td>\n",
       "      <td>0.102024</td>\n",
       "      <td>0.096540</td>\n",
       "    </tr>\n",
       "    <tr>\n",
       "      <th>5</th>\n",
       "      <td>0.074769</td>\n",
       "      <td>0.008965</td>\n",
       "      <td>0.007828</td>\n",
       "      <td>0.107519</td>\n",
       "      <td>0.036721</td>\n",
       "      <td>0.044371</td>\n",
       "      <td>0.156906</td>\n",
       "      <td>0.093029</td>\n",
       "      <td>0.095057</td>\n",
       "      <td>0.119266</td>\n",
       "      <td>0.091001</td>\n",
       "      <td>0.089104</td>\n",
       "      <td>0.102724</td>\n",
       "      <td>0.096003</td>\n",
       "      <td>0.107695</td>\n",
       "    </tr>\n",
       "    <tr>\n",
       "      <th>6</th>\n",
       "      <td>0.118456</td>\n",
       "      <td>0.109835</td>\n",
       "      <td>0.113034</td>\n",
       "      <td>0.041883</td>\n",
       "      <td>0.087850</td>\n",
       "      <td>0.186636</td>\n",
       "      <td>0.149575</td>\n",
       "      <td>0.043645</td>\n",
       "      <td>0.101801</td>\n",
       "      <td>0.094191</td>\n",
       "      <td>0.101435</td>\n",
       "      <td>0.087140</td>\n",
       "      <td>0.088323</td>\n",
       "      <td>0.100362</td>\n",
       "      <td>0.103566</td>\n",
       "    </tr>\n",
       "    <tr>\n",
       "      <th>7</th>\n",
       "      <td>0.001351</td>\n",
       "      <td>0.102273</td>\n",
       "      <td>0.071630</td>\n",
       "      <td>0.039366</td>\n",
       "      <td>0.137678</td>\n",
       "      <td>0.143388</td>\n",
       "      <td>0.087924</td>\n",
       "      <td>0.085581</td>\n",
       "      <td>0.105198</td>\n",
       "      <td>0.089911</td>\n",
       "      <td>0.074376</td>\n",
       "      <td>0.094118</td>\n",
       "      <td>0.112818</td>\n",
       "      <td>0.106274</td>\n",
       "      <td>0.109796</td>\n",
       "    </tr>\n",
       "    <tr>\n",
       "      <th>8</th>\n",
       "      <td>0.047809</td>\n",
       "      <td>0.039235</td>\n",
       "      <td>0.058346</td>\n",
       "      <td>0.110560</td>\n",
       "      <td>0.099223</td>\n",
       "      <td>0.095671</td>\n",
       "      <td>0.057341</td>\n",
       "      <td>0.083481</td>\n",
       "      <td>0.159474</td>\n",
       "      <td>0.102025</td>\n",
       "      <td>0.114167</td>\n",
       "      <td>0.087290</td>\n",
       "      <td>0.098068</td>\n",
       "      <td>0.096170</td>\n",
       "      <td>0.100625</td>\n",
       "    </tr>\n",
       "    <tr>\n",
       "      <th>9</th>\n",
       "      <td>0.092462</td>\n",
       "      <td>0.117229</td>\n",
       "      <td>0.131055</td>\n",
       "      <td>0.078795</td>\n",
       "      <td>0.071996</td>\n",
       "      <td>0.073416</td>\n",
       "      <td>0.132413</td>\n",
       "      <td>0.081024</td>\n",
       "      <td>0.092792</td>\n",
       "      <td>0.080893</td>\n",
       "      <td>0.095105</td>\n",
       "      <td>0.112155</td>\n",
       "      <td>0.113304</td>\n",
       "      <td>0.105915</td>\n",
       "      <td>0.099064</td>\n",
       "    </tr>\n",
       "    <tr>\n",
       "      <th>10</th>\n",
       "      <td>NaN</td>\n",
       "      <td>0.165545</td>\n",
       "      <td>0.000795</td>\n",
       "      <td>NaN</td>\n",
       "      <td>0.106062</td>\n",
       "      <td>0.067335</td>\n",
       "      <td>NaN</td>\n",
       "      <td>0.105800</td>\n",
       "      <td>0.037844</td>\n",
       "      <td>NaN</td>\n",
       "      <td>0.118594</td>\n",
       "      <td>0.107411</td>\n",
       "      <td>NaN</td>\n",
       "      <td>0.098460</td>\n",
       "      <td>0.089382</td>\n",
       "    </tr>\n",
       "    <tr>\n",
       "      <th>11</th>\n",
       "      <td>NaN</td>\n",
       "      <td>0.008516</td>\n",
       "      <td>0.151096</td>\n",
       "      <td>NaN</td>\n",
       "      <td>0.154342</td>\n",
       "      <td>0.089044</td>\n",
       "      <td>NaN</td>\n",
       "      <td>0.136147</td>\n",
       "      <td>0.065505</td>\n",
       "      <td>NaN</td>\n",
       "      <td>0.102317</td>\n",
       "      <td>0.088943</td>\n",
       "      <td>NaN</td>\n",
       "      <td>0.096516</td>\n",
       "      <td>0.106162</td>\n",
       "    </tr>\n",
       "    <tr>\n",
       "      <th>12</th>\n",
       "      <td>NaN</td>\n",
       "      <td>0.081595</td>\n",
       "      <td>0.021378</td>\n",
       "      <td>NaN</td>\n",
       "      <td>0.149362</td>\n",
       "      <td>0.126985</td>\n",
       "      <td>NaN</td>\n",
       "      <td>0.110141</td>\n",
       "      <td>0.101169</td>\n",
       "      <td>NaN</td>\n",
       "      <td>0.115754</td>\n",
       "      <td>0.119064</td>\n",
       "      <td>NaN</td>\n",
       "      <td>0.084639</td>\n",
       "      <td>0.100409</td>\n",
       "    </tr>\n",
       "    <tr>\n",
       "      <th>13</th>\n",
       "      <td>NaN</td>\n",
       "      <td>0.105617</td>\n",
       "      <td>0.064322</td>\n",
       "      <td>NaN</td>\n",
       "      <td>0.078226</td>\n",
       "      <td>0.152090</td>\n",
       "      <td>NaN</td>\n",
       "      <td>0.046798</td>\n",
       "      <td>0.116990</td>\n",
       "      <td>NaN</td>\n",
       "      <td>0.095098</td>\n",
       "      <td>0.094423</td>\n",
       "      <td>NaN</td>\n",
       "      <td>0.086602</td>\n",
       "      <td>0.120412</td>\n",
       "    </tr>\n",
       "    <tr>\n",
       "      <th>14</th>\n",
       "      <td>NaN</td>\n",
       "      <td>0.079792</td>\n",
       "      <td>0.005778</td>\n",
       "      <td>NaN</td>\n",
       "      <td>0.021473</td>\n",
       "      <td>0.074054</td>\n",
       "      <td>NaN</td>\n",
       "      <td>0.044410</td>\n",
       "      <td>0.083931</td>\n",
       "      <td>NaN</td>\n",
       "      <td>0.115039</td>\n",
       "      <td>0.096219</td>\n",
       "      <td>NaN</td>\n",
       "      <td>0.106622</td>\n",
       "      <td>0.108416</td>\n",
       "    </tr>\n",
       "    <tr>\n",
       "      <th>15</th>\n",
       "      <td>NaN</td>\n",
       "      <td>0.179067</td>\n",
       "      <td>0.052580</td>\n",
       "      <td>NaN</td>\n",
       "      <td>0.030341</td>\n",
       "      <td>0.083596</td>\n",
       "      <td>NaN</td>\n",
       "      <td>0.123261</td>\n",
       "      <td>0.096772</td>\n",
       "      <td>NaN</td>\n",
       "      <td>0.109399</td>\n",
       "      <td>0.111944</td>\n",
       "      <td>NaN</td>\n",
       "      <td>0.082456</td>\n",
       "      <td>0.089954</td>\n",
       "    </tr>\n",
       "    <tr>\n",
       "      <th>16</th>\n",
       "      <td>NaN</td>\n",
       "      <td>0.038161</td>\n",
       "      <td>0.054624</td>\n",
       "      <td>NaN</td>\n",
       "      <td>0.006007</td>\n",
       "      <td>0.146065</td>\n",
       "      <td>NaN</td>\n",
       "      <td>0.134861</td>\n",
       "      <td>0.088119</td>\n",
       "      <td>NaN</td>\n",
       "      <td>0.099734</td>\n",
       "      <td>0.097085</td>\n",
       "      <td>NaN</td>\n",
       "      <td>0.109017</td>\n",
       "      <td>0.092514</td>\n",
       "    </tr>\n",
       "    <tr>\n",
       "      <th>17</th>\n",
       "      <td>NaN</td>\n",
       "      <td>0.097802</td>\n",
       "      <td>0.067436</td>\n",
       "      <td>NaN</td>\n",
       "      <td>0.014953</td>\n",
       "      <td>0.118593</td>\n",
       "      <td>NaN</td>\n",
       "      <td>0.085598</td>\n",
       "      <td>0.093843</td>\n",
       "      <td>NaN</td>\n",
       "      <td>0.089813</td>\n",
       "      <td>0.084044</td>\n",
       "      <td>NaN</td>\n",
       "      <td>0.110265</td>\n",
       "      <td>0.092579</td>\n",
       "    </tr>\n",
       "    <tr>\n",
       "      <th>18</th>\n",
       "      <td>NaN</td>\n",
       "      <td>0.059602</td>\n",
       "      <td>0.014857</td>\n",
       "      <td>NaN</td>\n",
       "      <td>0.090663</td>\n",
       "      <td>0.259367</td>\n",
       "      <td>NaN</td>\n",
       "      <td>0.143804</td>\n",
       "      <td>0.051914</td>\n",
       "      <td>NaN</td>\n",
       "      <td>0.086200</td>\n",
       "      <td>0.088837</td>\n",
       "      <td>NaN</td>\n",
       "      <td>0.107935</td>\n",
       "      <td>0.093968</td>\n",
       "    </tr>\n",
       "    <tr>\n",
       "      <th>19</th>\n",
       "      <td>NaN</td>\n",
       "      <td>0.043689</td>\n",
       "      <td>0.094475</td>\n",
       "      <td>NaN</td>\n",
       "      <td>0.072734</td>\n",
       "      <td>0.074143</td>\n",
       "      <td>NaN</td>\n",
       "      <td>0.076111</td>\n",
       "      <td>0.067821</td>\n",
       "      <td>NaN</td>\n",
       "      <td>0.099161</td>\n",
       "      <td>0.118924</td>\n",
       "      <td>NaN</td>\n",
       "      <td>0.095102</td>\n",
       "      <td>0.086818</td>\n",
       "    </tr>\n",
       "  </tbody>\n",
       "</table>\n",
       "</div>"
      ],
      "text/plain": [
       "<div>\n",
       "<table border=\"1\" class=\"dataframe\">\n",
       "  <thead>\n",
       "    <tr>\n",
       "      <th>n</th>\n",
       "      <th colspan=\"3\" halign=\"left\">2</th>\n",
       "      <th colspan=\"3\" halign=\"left\">5</th>\n",
       "      <th colspan=\"3\" halign=\"left\">10</th>\n",
       "      <th colspan=\"3\" halign=\"left\">100</th>\n",
       "      <th colspan=\"3\" halign=\"left\">200</th>\n",
       "    </tr>\n",
       "    <tr>\n",
       "      <th>N</th>\n",
       "      <th>10</th>\n",
       "      <th>100</th>\n",
       "      <th>500</th>\n",
       "      <th>10</th>\n",
       "      <th>100</th>\n",
       "      <th>500</th>\n",
       "      <th>10</th>\n",
       "      <th>100</th>\n",
       "      <th>500</th>\n",
       "      <th>10</th>\n",
       "      <th>100</th>\n",
       "      <th>500</th>\n",
       "      <th>10</th>\n",
       "      <th>100</th>\n",
       "      <th>500</th>\n",
       "    </tr>\n",
       "  </thead>\n",
       "  <tbody>\n",
       "    <tr>\n",
       "      <th>0</th>\n",
       "      <td>0.031834</td>\n",
       "      <td>0.153210</td>\n",
       "      <td>0.027036</td>\n",
       "      <td>0.022260</td>\n",
       "      <td>0.189546</td>\n",
       "      <td>0.018542</td>\n",
       "      <td>0.061378</td>\n",
       "      <td>0.045642</td>\n",
       "      <td>0.135429</td>\n",
       "      <td>0.073299</td>\n",
       "      <td>0.116341</td>\n",
       "      <td>0.107365</td>\n",
       "      <td>0.084513</td>\n",
       "      <td>0.097248</td>\n",
       "      <td>0.092775</td>\n",
       "    </tr>\n",
       "    <tr>\n",
       "      <th>1</th>\n",
       "      <td>0.040824</td>\n",
       "      <td>0.156711</td>\n",
       "      <td>0.188536</td>\n",
       "      <td>0.102143</td>\n",
       "      <td>0.013157</td>\n",
       "      <td>0.058824</td>\n",
       "      <td>0.074374</td>\n",
       "      <td>0.150490</td>\n",
       "      <td>0.169571</td>\n",
       "      <td>0.094096</td>\n",
       "      <td>0.095395</td>\n",
       "      <td>0.099984</td>\n",
       "      <td>0.082120</td>\n",
       "      <td>0.072265</td>\n",
       "      <td>0.087480</td>\n",
       "    </tr>\n",
       "    <tr>\n",
       "      <th>2</th>\n",
       "      <td>0.204161</td>\n",
       "      <td>0.455332</td>\n",
       "      <td>0.107885</td>\n",
       "      <td>0.091877</td>\n",
       "      <td>0.173143</td>\n",
       "      <td>0.077631</td>\n",
       "      <td>0.098281</td>\n",
       "      <td>0.080585</td>\n",
       "      <td>0.085977</td>\n",
       "      <td>0.096187</td>\n",
       "      <td>0.094163</td>\n",
       "      <td>0.083854</td>\n",
       "      <td>0.087328</td>\n",
       "      <td>0.090448</td>\n",
       "      <td>0.106856</td>\n",
       "    </tr>\n",
       "    <tr>\n",
       "      <th>3</th>\n",
       "      <td>0.057284</td>\n",
       "      <td>0.000337</td>\n",
       "      <td>0.273175</td>\n",
       "      <td>0.042133</td>\n",
       "      <td>0.109326</td>\n",
       "      <td>0.082286</td>\n",
       "      <td>0.107443</td>\n",
       "      <td>0.084266</td>\n",
       "      <td>0.144310</td>\n",
       "      <td>0.115081</td>\n",
       "      <td>0.084086</td>\n",
       "      <td>0.089419</td>\n",
       "      <td>0.107266</td>\n",
       "      <td>0.092197</td>\n",
       "      <td>0.094195</td>\n",
       "    </tr>\n",
       "    <tr>\n",
       "      <th>4</th>\n",
       "      <td>0.047761</td>\n",
       "      <td>0.203819</td>\n",
       "      <td>0.121214</td>\n",
       "      <td>0.077905</td>\n",
       "      <td>0.284163</td>\n",
       "      <td>0.096634</td>\n",
       "      <td>0.117400</td>\n",
       "      <td>0.055256</td>\n",
       "      <td>0.114725</td>\n",
       "      <td>0.120599</td>\n",
       "      <td>0.101090</td>\n",
       "      <td>0.091259</td>\n",
       "      <td>0.093083</td>\n",
       "      <td>0.102024</td>\n",
       "      <td>0.096540</td>\n",
       "    </tr>\n",
       "    <tr>\n",
       "      <th>5</th>\n",
       "      <td>0.074769</td>\n",
       "      <td>0.008965</td>\n",
       "      <td>0.007828</td>\n",
       "      <td>0.107519</td>\n",
       "      <td>0.036721</td>\n",
       "      <td>0.044371</td>\n",
       "      <td>0.156906</td>\n",
       "      <td>0.093029</td>\n",
       "      <td>0.095057</td>\n",
       "      <td>0.119266</td>\n",
       "      <td>0.091001</td>\n",
       "      <td>0.089104</td>\n",
       "      <td>0.102724</td>\n",
       "      <td>0.096003</td>\n",
       "      <td>0.107695</td>\n",
       "    </tr>\n",
       "    <tr>\n",
       "      <th>6</th>\n",
       "      <td>0.118456</td>\n",
       "      <td>0.109835</td>\n",
       "      <td>0.113034</td>\n",
       "      <td>0.041883</td>\n",
       "      <td>0.087850</td>\n",
       "      <td>0.186636</td>\n",
       "      <td>0.149575</td>\n",
       "      <td>0.043645</td>\n",
       "      <td>0.101801</td>\n",
       "      <td>0.094191</td>\n",
       "      <td>0.101435</td>\n",
       "      <td>0.087140</td>\n",
       "      <td>0.088323</td>\n",
       "      <td>0.100362</td>\n",
       "      <td>0.103566</td>\n",
       "    </tr>\n",
       "    <tr>\n",
       "      <th>7</th>\n",
       "      <td>0.001351</td>\n",
       "      <td>0.102273</td>\n",
       "      <td>0.071630</td>\n",
       "      <td>0.039366</td>\n",
       "      <td>0.137678</td>\n",
       "      <td>0.143388</td>\n",
       "      <td>0.087924</td>\n",
       "      <td>0.085581</td>\n",
       "      <td>0.105198</td>\n",
       "      <td>0.089911</td>\n",
       "      <td>0.074376</td>\n",
       "      <td>0.094118</td>\n",
       "      <td>0.112818</td>\n",
       "      <td>0.106274</td>\n",
       "      <td>0.109796</td>\n",
       "    </tr>\n",
       "    <tr>\n",
       "      <th>8</th>\n",
       "      <td>0.047809</td>\n",
       "      <td>0.039235</td>\n",
       "      <td>0.058346</td>\n",
       "      <td>0.110560</td>\n",
       "      <td>0.099223</td>\n",
       "      <td>0.095671</td>\n",
       "      <td>0.057341</td>\n",
       "      <td>0.083481</td>\n",
       "      <td>0.159474</td>\n",
       "      <td>0.102025</td>\n",
       "      <td>0.114167</td>\n",
       "      <td>0.087290</td>\n",
       "      <td>0.098068</td>\n",
       "      <td>0.096170</td>\n",
       "      <td>0.100625</td>\n",
       "    </tr>\n",
       "    <tr>\n",
       "      <th>9</th>\n",
       "      <td>0.092462</td>\n",
       "      <td>0.117229</td>\n",
       "      <td>0.131055</td>\n",
       "      <td>0.078795</td>\n",
       "      <td>0.071996</td>\n",
       "      <td>0.073416</td>\n",
       "      <td>0.132413</td>\n",
       "      <td>0.081024</td>\n",
       "      <td>0.092792</td>\n",
       "      <td>0.080893</td>\n",
       "      <td>0.095105</td>\n",
       "      <td>0.112155</td>\n",
       "      <td>0.113304</td>\n",
       "      <td>0.105915</td>\n",
       "      <td>0.099064</td>\n",
       "    </tr>\n",
       "    <tr>\n",
       "      <th>10</th>\n",
       "      <td>NaN</td>\n",
       "      <td>0.165545</td>\n",
       "      <td>0.000795</td>\n",
       "      <td>NaN</td>\n",
       "      <td>0.106062</td>\n",
       "      <td>0.067335</td>\n",
       "      <td>NaN</td>\n",
       "      <td>0.105800</td>\n",
       "      <td>0.037844</td>\n",
       "      <td>NaN</td>\n",
       "      <td>0.118594</td>\n",
       "      <td>0.107411</td>\n",
       "      <td>NaN</td>\n",
       "      <td>0.098460</td>\n",
       "      <td>0.089382</td>\n",
       "    </tr>\n",
       "    <tr>\n",
       "      <th>11</th>\n",
       "      <td>NaN</td>\n",
       "      <td>0.008516</td>\n",
       "      <td>0.151096</td>\n",
       "      <td>NaN</td>\n",
       "      <td>0.154342</td>\n",
       "      <td>0.089044</td>\n",
       "      <td>NaN</td>\n",
       "      <td>0.136147</td>\n",
       "      <td>0.065505</td>\n",
       "      <td>NaN</td>\n",
       "      <td>0.102317</td>\n",
       "      <td>0.088943</td>\n",
       "      <td>NaN</td>\n",
       "      <td>0.096516</td>\n",
       "      <td>0.106162</td>\n",
       "    </tr>\n",
       "    <tr>\n",
       "      <th>12</th>\n",
       "      <td>NaN</td>\n",
       "      <td>0.081595</td>\n",
       "      <td>0.021378</td>\n",
       "      <td>NaN</td>\n",
       "      <td>0.149362</td>\n",
       "      <td>0.126985</td>\n",
       "      <td>NaN</td>\n",
       "      <td>0.110141</td>\n",
       "      <td>0.101169</td>\n",
       "      <td>NaN</td>\n",
       "      <td>0.115754</td>\n",
       "      <td>0.119064</td>\n",
       "      <td>NaN</td>\n",
       "      <td>0.084639</td>\n",
       "      <td>0.100409</td>\n",
       "    </tr>\n",
       "    <tr>\n",
       "      <th>13</th>\n",
       "      <td>NaN</td>\n",
       "      <td>0.105617</td>\n",
       "      <td>0.064322</td>\n",
       "      <td>NaN</td>\n",
       "      <td>0.078226</td>\n",
       "      <td>0.152090</td>\n",
       "      <td>NaN</td>\n",
       "      <td>0.046798</td>\n",
       "      <td>0.116990</td>\n",
       "      <td>NaN</td>\n",
       "      <td>0.095098</td>\n",
       "      <td>0.094423</td>\n",
       "      <td>NaN</td>\n",
       "      <td>0.086602</td>\n",
       "      <td>0.120412</td>\n",
       "    </tr>\n",
       "    <tr>\n",
       "      <th>14</th>\n",
       "      <td>NaN</td>\n",
       "      <td>0.079792</td>\n",
       "      <td>0.005778</td>\n",
       "      <td>NaN</td>\n",
       "      <td>0.021473</td>\n",
       "      <td>0.074054</td>\n",
       "      <td>NaN</td>\n",
       "      <td>0.044410</td>\n",
       "      <td>0.083931</td>\n",
       "      <td>NaN</td>\n",
       "      <td>0.115039</td>\n",
       "      <td>0.096219</td>\n",
       "      <td>NaN</td>\n",
       "      <td>0.106622</td>\n",
       "      <td>0.108416</td>\n",
       "    </tr>\n",
       "    <tr>\n",
       "      <th>15</th>\n",
       "      <td>NaN</td>\n",
       "      <td>0.179067</td>\n",
       "      <td>0.052580</td>\n",
       "      <td>NaN</td>\n",
       "      <td>0.030341</td>\n",
       "      <td>0.083596</td>\n",
       "      <td>NaN</td>\n",
       "      <td>0.123261</td>\n",
       "      <td>0.096772</td>\n",
       "      <td>NaN</td>\n",
       "      <td>0.109399</td>\n",
       "      <td>0.111944</td>\n",
       "      <td>NaN</td>\n",
       "      <td>0.082456</td>\n",
       "      <td>0.089954</td>\n",
       "    </tr>\n",
       "    <tr>\n",
       "      <th>16</th>\n",
       "      <td>NaN</td>\n",
       "      <td>0.038161</td>\n",
       "      <td>0.054624</td>\n",
       "      <td>NaN</td>\n",
       "      <td>0.006007</td>\n",
       "      <td>0.146065</td>\n",
       "      <td>NaN</td>\n",
       "      <td>0.134861</td>\n",
       "      <td>0.088119</td>\n",
       "      <td>NaN</td>\n",
       "      <td>0.099734</td>\n",
       "      <td>0.097085</td>\n",
       "      <td>NaN</td>\n",
       "      <td>0.109017</td>\n",
       "      <td>0.092514</td>\n",
       "    </tr>\n",
       "    <tr>\n",
       "      <th>17</th>\n",
       "      <td>NaN</td>\n",
       "      <td>0.097802</td>\n",
       "      <td>0.067436</td>\n",
       "      <td>NaN</td>\n",
       "      <td>0.014953</td>\n",
       "      <td>0.118593</td>\n",
       "      <td>NaN</td>\n",
       "      <td>0.085598</td>\n",
       "      <td>0.093843</td>\n",
       "      <td>NaN</td>\n",
       "      <td>0.089813</td>\n",
       "      <td>0.084044</td>\n",
       "      <td>NaN</td>\n",
       "      <td>0.110265</td>\n",
       "      <td>0.092579</td>\n",
       "    </tr>\n",
       "    <tr>\n",
       "      <th>18</th>\n",
       "      <td>NaN</td>\n",
       "      <td>0.059602</td>\n",
       "      <td>0.014857</td>\n",
       "      <td>NaN</td>\n",
       "      <td>0.090663</td>\n",
       "      <td>0.259367</td>\n",
       "      <td>NaN</td>\n",
       "      <td>0.143804</td>\n",
       "      <td>0.051914</td>\n",
       "      <td>NaN</td>\n",
       "      <td>0.086200</td>\n",
       "      <td>0.088837</td>\n",
       "      <td>NaN</td>\n",
       "      <td>0.107935</td>\n",
       "      <td>0.093968</td>\n",
       "    </tr>\n",
       "    <tr>\n",
       "      <th>19</th>\n",
       "      <td>NaN</td>\n",
       "      <td>0.043689</td>\n",
       "      <td>0.094475</td>\n",
       "      <td>NaN</td>\n",
       "      <td>0.072734</td>\n",
       "      <td>0.074143</td>\n",
       "      <td>NaN</td>\n",
       "      <td>0.076111</td>\n",
       "      <td>0.067821</td>\n",
       "      <td>NaN</td>\n",
       "      <td>0.099161</td>\n",
       "      <td>0.118924</td>\n",
       "      <td>NaN</td>\n",
       "      <td>0.095102</td>\n",
       "      <td>0.086818</td>\n",
       "    </tr>\n",
       "  </tbody>\n",
       "</table>\n",
       "</div>"
      ]
     },
     "execution_count": 90,
     "metadata": {},
     "output_type": "execute_result"
    }
   ],
   "source": [
    "means[:20]"
   ]
  },
  {
   "cell_type": "markdown",
   "metadata": {
    "deletable": true,
    "editable": true
   },
   "source": [
    "#### 2)\n",
    "\n",
    "The Central Limit Theorem holds only for sums of reasonably large sample sizes. Thus, the distribution of the means will appear more normal for larger values of $n$. For very small values of $n$ such as $n=2$ or $n=5$, the distribution of the means will more closesly resemble the distribution of the population and will have a similar mean and standard deviation. These effects may be difficult to observe for $N=10$, due to a small number of sampled means."
   ]
  },
  {
   "cell_type": "markdown",
   "metadata": {
    "deletable": true,
    "editable": true
   },
   "source": [
    "#### 3)\n",
    "\n",
    "Let's construct a histogram for each set of sample means:"
   ]
  },
  {
   "cell_type": "code",
   "execution_count": 91,
   "metadata": {
    "collapsed": false,
    "deletable": true,
    "editable": true
   },
   "outputs": [
    {
     "data": {
      "image/png": "[encoded data removed]",
      "text/plain": [
       "<matplotlib.figure.Figure at 0x7f6ab9350c50>"
      ]
     },
     "metadata": {},
     "output_type": "display_data"
    }
   ],
   "source": [
    "fig = plt.figure(figsize=(18, 12))\n",
    "\n",
    "def bins_for(N):\n",
    "    bins = {\n",
    "        10: 5,\n",
    "        100: 10,\n",
    "        500: 20\n",
    "    }\n",
    "    return bins.get(N)\n",
    "\n",
    "i = 1\n",
    "for column in means:\n",
    "    n, N = column\n",
    "    s = means[column][:N]\n",
    "    ax = fig.add_subplot(len(n_values), len(N_values), i)\n",
    "    ax.hist(x=s, bins=bins_for(N), normed=True, rwidth=0.8, label=None)\n",
    "    ax.set_title(f\"n={n}, N={N}\")\n",
    "    i += 1\n",
    "\n",
    "fig.tight_layout(w_pad=2.0, h_pad=2.0)\n",
    "fig.suptitle(\"Histograms of \" + r\"$\\overline{X}$\" + \" values\", y=1.05, fontsize=20)\n",
    "fig"
   ]
  },
  {
   "cell_type": "markdown",
   "metadata": {
    "deletable": true,
    "editable": true
   },
   "source": [
    "The histograms for $N=500$ provide a good demonstration of how the distribution of sample means changes as the sample size is increased. In particular, the histograms for $n=100$ and $n=200$ appear to have nearly perfect normal distributions."
   ]
  },
  {
   "cell_type": "code",
   "execution_count": 92,
   "metadata": {
    "collapsed": true,
    "deletable": true,
    "editable": true
   },
   "outputs": [],
   "source": [
    "plt.close(\"all\")"
   ]
  },
  {
   "cell_type": "markdown",
   "metadata": {
    "deletable": true,
    "editable": true
   },
   "source": [
    "#### 4)\n",
    "\n",
    "The theoretical distribution of $\\overline{X}$ is $N(\\mu, \\sigma / \\sqrt{n})$, where $\\mu$ and $\\sigma$ are our population mean and population variance, and n is the sample size:"
   ]
  },
  {
   "cell_type": "code",
   "execution_count": 98,
   "metadata": {
    "collapsed": false,
    "deletable": true,
    "editable": true
   },
   "outputs": [
    {
     "data": {
      "image/png": "[encoded data removed]",
      "text/plain": [
       "<matplotlib.figure.Figure at 0x7f6ab80a4dd8>"
      ]
     },
     "metadata": {},
     "output_type": "display_data"
    }
   ],
   "source": [
    "dist = stats.norm(population_mean, np.sqrt(population_var/100))\n",
    "x_min = dist.ppf(0.0001)\n",
    "x_max = dist.ppf(0.9999)\n",
    "x = np.linspace(x_min, x_max, 100)\n",
    "y = dist.pdf(support)\n",
    "\n",
    "fig = plt.figure(figsize=(8, 4))\n",
    "ax = fig.add_subplot(111)\n",
    "ax.plot(x, y)\n",
    "ax.hist(means[(100, 500)], bins=10, normed=True, rwidth=0.8)\n",
    "fig"
   ]
  },
  {
   "cell_type": "code",
   "execution_count": null,
   "metadata": {
    "collapsed": true,
    "deletable": true,
    "editable": true
   },
   "outputs": [],
   "source": [
    ""
   ]
  }
 ],
 "metadata": {
  "kernelspec": {
   "display_name": "Python 3",
   "language": "python",
   "name": "python3"
  },
  "language_info": {
   "codemirror_mode": {
    "name": "ipython",
    "version": 3.0
   },
   "file_extension": ".py",
   "mimetype": "text/x-python",
   "name": "python",
   "nbconvert_exporter": "python",
   "pygments_lexer": "ipython3",
   "version": "3.5.3"
  }
 },
 "nbformat": 4,
 "nbformat_minor": 0
}